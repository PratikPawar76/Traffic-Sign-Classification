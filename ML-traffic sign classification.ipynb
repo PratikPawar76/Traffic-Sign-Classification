{
 "cells": [
  {
   "cell_type": "code",
   "execution_count": 3,
   "id": "c3ccf954",
   "metadata": {},
   "outputs": [],
   "source": [
    "\n",
    "import numpy as np\n",
    "import pandas as pd\n",
    "import matplotlib.pyplot as plt\n",
    "import cv2\n",
    "import tensorflow as tf\n",
    "from PIL import Image\n",
    "import os\n",
    "os.chdir('C:\\\\Users\\\\Pratik Pawar\\\\Downloads\\\\archive')\n",
    "from sklearn.model_selection import train_test_split\n",
    "from tensorflow.keras.utils import to_categorical\n",
    "from keras.models import Sequential, load_model\n",
    "from keras.layers import Conv2D, MaxPool2D, Dense, Flatten, Dropout\n"
   ]
  },
  {
   "cell_type": "code",
   "execution_count": 4,
   "id": "b6dbad8c",
   "metadata": {},
   "outputs": [],
   "source": [
    "\n",
    "data = []\n",
    "labels = []\n",
    "classes = 43\n",
    "cur_path = os.getcwd()\n"
   ]
  },
  {
   "cell_type": "code",
   "execution_count": 5,
   "id": "4679be1b",
   "metadata": {},
   "outputs": [
    {
     "data": {
      "text/plain": [
       "'C:\\\\Users\\\\Pratik Pawar\\\\Downloads\\\\archive'"
      ]
     },
     "execution_count": 5,
     "metadata": {},
     "output_type": "execute_result"
    }
   ],
   "source": [
    "cur_path"
   ]
  },
  {
   "cell_type": "code",
   "execution_count": 6,
   "id": "c71695e3",
   "metadata": {},
   "outputs": [],
   "source": [
    "#Retrieving the images and their labels \n",
    "for i in range(classes):\n",
    "     path = os.path.join(cur_path,'train',str(i))\n",
    "     images = os.listdir(path)\n",
    "     for a in images:\n",
    "         try:\n",
    "             image = Image.open(path + '\\\\'+ a)\n",
    "             image = image.resize((30,30))\n",
    "             image = np.array(image)\n",
    "             #sim = Image.fromarray(image)\n",
    "             data.append(image)\n",
    "             labels.append(i)\n",
    "         except:\n",
    "             print(\"Error loading image\")\n",
    "#Converting lists into numpy arrays\n",
    "data = np.array(data)\n",
    "labels = np.array(labels)\n"
   ]
  },
  {
   "cell_type": "code",
   "execution_count": 13,
   "id": "c880c262",
   "metadata": {},
   "outputs": [
    {
     "name": "stdout",
     "output_type": "stream",
     "text": [
      "(39209, 30, 30, 3) (39209,)\n",
      "(31367, 30, 30, 3) (7842, 30, 30, 3) (31367,) (7842,)\n"
     ]
    }
   ],
   "source": [
    "print(data.shape, labels.shape)\n",
    "#Splitting training and testing dataset\n",
    "X_train, X_test, y_train, y_test = train_test_split(data, labels, test_size=0.2, random_state=42)\n",
    "print(X_train.shape, X_test.shape, y_train.shape, y_test.shape)\n",
    "#Converting the labels into one hot encoding\n",
    "y_train = to_categorical(y_train, 43)\n",
    "y_test = to_categorical(y_test, 43)\n"
   ]
  },
  {
   "cell_type": "code",
   "execution_count": 14,
   "id": "3b615974",
   "metadata": {},
   "outputs": [],
   "source": [
    "#Building the model\n",
    "model = Sequential()\n",
    "model.add(Conv2D(filters=32, kernel_size=(5,5), activation='relu', input_shape=X_train.shape[1:]))\n",
    "model.add(Conv2D(filters=32, kernel_size=(5,5), activation='relu'))\n",
    "model.add(MaxPool2D(pool_size=(2, 2)))\n",
    "model.add(Dropout(rate=0.25))\n",
    "model.add(Conv2D(filters=64, kernel_size=(3, 3), activation='relu'))\n",
    "model.add(Conv2D(filters=64, kernel_size=(3, 3), activation='relu'))\n",
    "model.add(MaxPool2D(pool_size=(2, 2)))\n",
    "model.add(Dropout(rate=0.25))\n",
    "model.add(Flatten())\n",
    "model.add(Dense(256, activation='relu'))\n",
    "model.add(Dropout(rate=0.5))\n",
    "model.add(Dense(43, activation='softmax'))\n",
    "#Compilation of the model\n",
    "model.compile(loss='categorical_crossentropy', optimizer='adam', metrics=['accuracy'])"
   ]
  },
  {
   "cell_type": "code",
   "execution_count": 15,
   "id": "2af58514",
   "metadata": {},
   "outputs": [
    {
     "name": "stdout",
     "output_type": "stream",
     "text": [
      "Epoch 1/15\n",
      "981/981 [==============================] - 171s 153ms/step - loss: 3.1296 - accuracy: 0.2955 - val_loss: 0.6433 - val_accuracy: 0.8264\n",
      "Epoch 2/15\n",
      "981/981 [==============================] - 147s 150ms/step - loss: 0.8532 - accuracy: 0.7478 - val_loss: 0.2639 - val_accuracy: 0.9356\n",
      "Epoch 3/15\n",
      "981/981 [==============================] - 144s 147ms/step - loss: 0.5698 - accuracy: 0.8288 - val_loss: 0.1765 - val_accuracy: 0.9556\n",
      "Epoch 4/15\n",
      "981/981 [==============================] - 146s 149ms/step - loss: 0.4457 - accuracy: 0.8686 - val_loss: 0.2280 - val_accuracy: 0.9347\n",
      "Epoch 5/15\n",
      "981/981 [==============================] - 185s 188ms/step - loss: 0.3742 - accuracy: 0.8885 - val_loss: 0.1025 - val_accuracy: 0.9728\n",
      "Epoch 6/15\n",
      "981/981 [==============================] - 148s 150ms/step - loss: 0.3092 - accuracy: 0.9080 - val_loss: 0.0961 - val_accuracy: 0.9723\n",
      "Epoch 7/15\n",
      "981/981 [==============================] - 145s 148ms/step - loss: 0.2893 - accuracy: 0.9142 - val_loss: 0.1015 - val_accuracy: 0.9721\n",
      "Epoch 8/15\n",
      "981/981 [==============================] - 142s 145ms/step - loss: 0.3062 - accuracy: 0.9133 - val_loss: 0.0945 - val_accuracy: 0.9762\n",
      "Epoch 9/15\n",
      "981/981 [==============================] - 149s 152ms/step - loss: 0.2545 - accuracy: 0.9249 - val_loss: 0.0971 - val_accuracy: 0.9753\n",
      "Epoch 10/15\n",
      "981/981 [==============================] - 145s 147ms/step - loss: 0.2690 - accuracy: 0.9237 - val_loss: 0.0900 - val_accuracy: 0.9745\n",
      "Epoch 11/15\n",
      "981/981 [==============================] - 145s 148ms/step - loss: 0.2414 - accuracy: 0.9317 - val_loss: 0.0769 - val_accuracy: 0.9811\n",
      "Epoch 12/15\n",
      "981/981 [==============================] - 150s 152ms/step - loss: 0.2260 - accuracy: 0.9368 - val_loss: 0.0962 - val_accuracy: 0.9728\n",
      "Epoch 13/15\n",
      "981/981 [==============================] - 156s 159ms/step - loss: 0.2215 - accuracy: 0.9371 - val_loss: 0.0651 - val_accuracy: 0.9828\n",
      "Epoch 14/15\n",
      "981/981 [==============================] - 158s 161ms/step - loss: 0.2143 - accuracy: 0.9408 - val_loss: 0.0644 - val_accuracy: 0.9828\n",
      "Epoch 15/15\n",
      "981/981 [==============================] - 159s 162ms/step - loss: 0.2170 - accuracy: 0.9387 - val_loss: 0.0562 - val_accuracy: 0.9861\n"
     ]
    }
   ],
   "source": [
    "epochs = 15\n",
    "history = model.fit(X_train, y_train, batch_size=32, epochs=epochs, validation_data=(X_test, y_test))"
   ]
  },
  {
   "cell_type": "code",
   "execution_count": 16,
   "id": "a8ef7137",
   "metadata": {},
   "outputs": [
    {
     "data": {
      "image/png": "[encoded data removed]",
      "text/plain": [
       "<Figure size 432x288 with 1 Axes>"
      ]
     },
     "metadata": {
      "needs_background": "light"
     },
     "output_type": "display_data"
    },
    {
     "data": {
      "image/png": "[encoded data removed]",
      "text/plain": [
       "<Figure size 432x288 with 1 Axes>"
      ]
     },
     "metadata": {
      "needs_background": "light"
     },
     "output_type": "display_data"
    }
   ],
   "source": [
    "#plotting graphs for accuracy \n",
    "plt.figure(0)\n",
    "plt.plot(history.history['accuracy'], label='training accuracy')\n",
    "plt.plot(history.history['val_accuracy'], label='val accuracy')\n",
    "plt.title('Accuracy')\n",
    "plt.xlabel('epochs')\n",
    "plt.ylabel('accuracy')\n",
    "plt.legend()\n",
    "plt.show()\n",
    "plt.figure(1)\n",
    "plt.plot(history.history['loss'], label='training loss')\n",
    "plt.plot(history.history['val_loss'], label='val loss')\n",
    "plt.title('Loss')\n",
    "plt.xlabel('epochs')\n",
    "plt.ylabel('loss')\n",
    "plt.legend()\n",
    "plt.show()"
   ]
  },
  {
   "cell_type": "code",
   "execution_count": 17,
   "id": "33e1d93b",
   "metadata": {},
   "outputs": [
    {
     "name": "stderr",
     "output_type": "stream",
     "text": [
      "C:\\Users\\Pratik Pawar\\anaconda3\\lib\\site-packages\\keras\\engine\\sequential.py:450: UserWarning: `model.predict_classes()` is deprecated and will be removed after 2021-01-01. Please use instead:* `np.argmax(model.predict(x), axis=-1)`,   if your model does multi-class classification   (e.g. if it uses a `softmax` last-layer activation).* `(model.predict(x) > 0.5).astype(\"int32\")`,   if your model does binary classification   (e.g. if it uses a `sigmoid` last-layer activation).\n",
      "  warnings.warn('`model.predict_classes()` is deprecated and '\n"
     ]
    },
    {
     "name": "stdout",
     "output_type": "stream",
     "text": [
      "0.9498812351543943\n"
     ]
    }
   ],
   "source": [
    "#testing accuracy on test dataset\n",
    "from sklearn.metrics import accuracy_score\n",
    "y_test = pd.read_csv('Test.csv')\n",
    "labels = y_test[\"ClassId\"].values\n",
    "imgs = y_test[\"Path\"].values\n",
    "data=[]\n",
    "for img in imgs:\n",
    " image = Image.open(img)\n",
    " image = image.resize((30,30))\n",
    " data.append(np.array(image))\n",
    "X_test=np.array(data)\n",
    "pred = model.predict_classes(X_test)\n",
    "#Accuracy with the test data\n",
    "from sklearn.metrics import accuracy_score\n",
    "print(accuracy_score(labels, pred))"
   ]
  },
  {
   "cell_type": "code",
   "execution_count": 18,
   "id": "fddad348",
   "metadata": {},
   "outputs": [],
   "source": [
    "model.save(\"traffic_classifier.h5\")"
   ]
  },
  {
   "cell_type": "code",
   "execution_count": 19,
   "id": "ee7a27ba",
   "metadata": {},
   "outputs": [],
   "source": [
    "import tkinter as tk\n",
    "from tkinter import filedialog\n",
    "from tkinter import *\n",
    "from PIL import ImageTk, Image\n",
    "import numpy\n",
    "#load the trained model to classify sign\n",
    "from keras.models import load_model\n",
    "model = load_model(\"C:\\\\Users\\\\Pratik Pawar\\\\Downloads\\\\archive\\\\traffic_classifier.h5\")\n"
   ]
  },
  {
   "cell_type": "code",
   "execution_count": null,
   "id": "cdb28d63",
   "metadata": {},
   "outputs": [
    {
     "name": "stderr",
     "output_type": "stream",
     "text": [
      "C:\\Users\\Pratik Pawar\\anaconda3\\lib\\site-packages\\keras\\engine\\sequential.py:450: UserWarning: `model.predict_classes()` is deprecated and will be removed after 2021-01-01. Please use instead:* `np.argmax(model.predict(x), axis=-1)`,   if your model does multi-class classification   (e.g. if it uses a `softmax` last-layer activation).* `(model.predict(x) > 0.5).astype(\"int32\")`,   if your model does binary classification   (e.g. if it uses a `sigmoid` last-layer activation).\n",
      "  warnings.warn('`model.predict_classes()` is deprecated and '\n"
     ]
    },
    {
     "name": "stdout",
     "output_type": "stream",
     "text": [
      "Road work\n",
      "Wild animals crossing\n",
      "Bicycles crossing\n",
      "End no passing veh > 3.5 tons\n",
      "Keep left\n",
      "Turn right ahead\n",
      "Road work\n",
      "No vehicles\n",
      "Priority road\n",
      "Double curve\n"
     ]
    }
   ],
   "source": [
    "#dictionary to label all traffic signs class.\n",
    "classes = { 1:'Speed limit (20km/h)',\n",
    "             2:'Speed limit (30km/h)',\n",
    "             3:'Speed limit (50km/h)',\n",
    "             4:'Speed limit (60km/h)',\n",
    "             5:'Speed limit (70km/h)',\n",
    "             6:'Speed limit (80km/h)',\n",
    "             7:'End of speed limit (80km/h)',\n",
    "             8:'Speed limit (100km/h)',\n",
    "             9:'Speed limit (120km/h)',\n",
    "             10:'No passing',\n",
    "             11:'No passing veh over 3.5 tons',\n",
    "             12:'Right-of-way at intersection',\n",
    "             13:'Priority road',\n",
    "             14:'Yield',\n",
    "             15:'Stop',\n",
    "             16:'No vehicles',\n",
    "             17:'Veh > 3.5 tons prohibited',\n",
    "             18:'No entry',\n",
    "             19:'General caution',\n",
    "             20:'Dangerous curve left',\n",
    "             21:'Dangerous curve right',\n",
    "             22:'Double curve',\n",
    "             23:'Bumpy road',\n",
    "             24:'Slippery road',\n",
    "             25:'Road narrows on the right',\n",
    "             26:'Road work',\n",
    "             27:'Traffic signals',\n",
    "             28:'Pedestrians',\n",
    "             29:'Children crossing',\n",
    "             30:'Bicycles crossing',\n",
    "             31:'Beware of ice/snow',\n",
    "             32:'Wild animals crossing',\n",
    "             33:'End speed + passing limits',\n",
    "             34:'Turn right ahead',\n",
    "             35:'Turn left ahead',\n",
    "             36:'Ahead only',\n",
    "             37:'Go straight or right',\n",
    "             38:'Go straight or left',\n",
    "             39:'Keep right',\n",
    "             40:'Keep left',\n",
    "             41:'Roundabout mandatory',\n",
    "             42:'End of no passing',\n",
    "             43:'End no passing veh > 3.5 tons' }\n",
    "#initialise GUI\n",
    "top=tk.Tk()\n",
    "top.geometry('800x600')\n",
    "top.title('Traffic sign classification')\n",
    "top.configure(background='#CDCDCD')\n",
    "label=Label(top,background='#CDCDCD', font=('arial',15,'bold'))\n",
    "sign_image = Label(top)\n",
    "def classify(file_path):\n",
    " global label_packed\n",
    " image = Image.open(file_path)\n",
    " image = image.resize((30,30))\n",
    " image = numpy.expand_dims(image, axis=0)\n",
    " image = numpy.array(image)\n",
    " pred = model.predict_classes([image])[0]\n",
    " sign = classes[pred+1]\n",
    " print(sign)\n",
    " label.configure(foreground='#011638', text=sign)\n",
    "def show_classify_button(file_path):\n",
    " classify_b=Button(top,text=\"Classify Image\",command=lambda: classify(file_path),padx=10,pady=5)\n",
    " classify_b.configure(background='#364156', foreground='white',font=('arial',10,'bold'))\n",
    " classify_b.place(relx=0.79,rely=0.46)\n",
    "def upload_image():\n",
    " try:\n",
    "     file_path=filedialog.askopenfilename()\n",
    "     uploaded=Image.open(file_path)\n",
    "     uploaded.thumbnail(((top.winfo_width()/2.25),(top.winfo_height()/2.25)))\n",
    "     im=ImageTk.PhotoImage(uploaded)\n",
    "     sign_image.configure(image=im)\n",
    "     sign_image.image=im\n",
    "     label.configure(text='')\n",
    "     show_classify_button(file_path)\n",
    " except:\n",
    "     pass\n",
    "    \n",
    "upload=Button(top,text=\"Upload an image\",command=upload_image,padx=10,pady=5)\n",
    "upload.configure(background='#364156', foreground='white',font=('arial',10,'bold'))\n",
    "upload.pack(side=BOTTOM,pady=50)\n",
    "sign_image.pack(side=BOTTOM,expand=True)\n",
    "label.pack(side=BOTTOM,expand=True)\n",
    "heading = Label(top, text=\"Know Your Traffic Sign\",pady=20, font=('arial',20,'bold'))\n",
    "heading.configure(background='#CDCDCD',foreground='#364156')\n",
    "heading.pack()\n",
    "top.mainloop()\n"
   ]
  },
  {
   "cell_type": "code",
   "execution_count": null,
   "id": "1ba1af0f",
   "metadata": {},
   "outputs": [],
   "source": []
  },
  {
   "cell_type": "code",
   "execution_count": null,
   "id": "a4f9b5bb",
   "metadata": {},
   "outputs": [],
   "source": []
  },
  {
   "cell_type": "code",
   "execution_count": null,
   "id": "615ea028",
   "metadata": {},
   "outputs": [],
   "source": []
  }
 ],
 "metadata": {
  "kernelspec": {
   "display_name": "Python 3",
   "language": "python",
   "name": "python3"
  },
  "language_info": {
   "codemirror_mode": {
    "name": "ipython",
    "version": 3
   },
   "file_extension": ".py",
   "mimetype": "text/x-python",
   "name": "python",
   "nbconvert_exporter": "python",
   "pygments_lexer": "ipython3",
   "version": "3.8.8"
  }
 },
 "nbformat": 4,
 "nbformat_minor": 5
}
